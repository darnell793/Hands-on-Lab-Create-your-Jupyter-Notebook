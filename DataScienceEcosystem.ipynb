{
 "cells": [
  {
   "cell_type": "markdown",
   "id": "9f685ca6-95cb-46fe-8495-36f632df157f",
   "metadata": {
    "tags": []
   },
   "source": [
    "# Data Science Tools and Ecosystem"
   ]
  },
  {
   "cell_type": "markdown",
   "id": "2ca12fa0-6b55-46c2-8f31-5d35baf7ef6f",
   "metadata": {},
   "source": [
    "In this notebook, Data Science Tools and Ecosystem are summarized."
   ]
  },
  {
   "cell_type": "markdown",
   "id": "37795c84-7605-4d89-9be3-f64738a769d0",
   "metadata": {},
   "source": [
    "**Objectives:**\n",
    "- List of popular languages for Data Science\n",
    "- List of Commonly used libraries by Data Scientists \n",
    "- Examples of Arithmetic Expressions in Python "
   ]
  },
  {
   "cell_type": "markdown",
   "id": "711dc6dd-6b78-4cff-9493-2f111d8bd063",
   "metadata": {},
   "source": [
    "Some of the popular languages that Data Scientists use are:\n",
    "1. R\n",
    "2. Python\n",
    "3. SQL\n",
    "4. JAVA\n",
    "5. Julia"
   ]
  },
  {
   "cell_type": "markdown",
   "id": "a3d0557e-dc41-418b-9fbe-a49d6220d3b0",
   "metadata": {},
   "source": [
    "Some of the commonly used libraries used by Data Scientists include:\n",
    "1. Matplotib\n",
    "2. Numpy\n",
    "3. SciPy\n",
    "4. TensorFlow\n",
    "5. ggplot "
   ]
  },
  {
   "cell_type": "markdown",
   "id": "5d71c7e0-42c6-42fa-bae9-e125a0c36bf3",
   "metadata": {},
   "source": [
    "| Data Science Tools |\n",
    "| ------------------ |\n",
    "| Jupyter Notebook   |\n",
    "| R                  |\n",
    "| PyTorch            |\n",
    "| Apache Hadoop      |\n",
    "| Tensorflow         |\n"
   ]
  },
  {
   "cell_type": "markdown",
   "id": "8fec386e-9847-4a09-a432-1b1e8951eab0",
   "metadata": {},
   "source": [
    "### Below are a few examples of evaluating arithmetic expressions in Python"
   ]
  },
  {
   "cell_type": "markdown",
   "id": "da5ba3ce-a191-413f-a4e6-bfdbb42eb6d9",
   "metadata": {
    "tags": []
   },
   "source": [
    "This a simple arithmetic expression to mutiply then add integers."
   ]
  },
  {
   "cell_type": "code",
   "execution_count": 5,
   "id": "43ae388d-b08f-43b2-a714-becd7e797180",
   "metadata": {
    "tags": []
   },
   "outputs": [
    {
     "data": {
      "text/plain": [
       "17"
      ]
     },
     "execution_count": 5,
     "metadata": {},
     "output_type": "execute_result"
    }
   ],
   "source": [
    "(3*4)+5"
   ]
  },
  {
   "cell_type": "markdown",
   "id": "9e2137ed-0216-4fe0-bcfa-ff088050b66b",
   "metadata": {},
   "source": [
    "This will convert 200 minutes to hours by diving by 60"
   ]
  },
  {
   "cell_type": "code",
   "execution_count": 6,
   "id": "6ad8d8f3-53b9-49c2-a175-d4442c070462",
   "metadata": {
    "tags": []
   },
   "outputs": [
    {
     "data": {
      "text/plain": [
       "3.3333333333333335"
      ]
     },
     "execution_count": 6,
     "metadata": {},
     "output_type": "execute_result"
    }
   ],
   "source": [
    "200/60"
   ]
  },
  {
   "cell_type": "markdown",
   "id": "2c009558-e31b-4ab3-83e8-5fe2daea7579",
   "metadata": {},
   "source": [
    "## Author\n",
    "Darnell Hernandez "
   ]
  },
  {
   "cell_type": "code",
   "execution_count": null,
   "id": "e402c4fd-df2e-4bbb-bc5c-74506c916c32",
   "metadata": {},
   "outputs": [],
   "source": []
  }
 ],
 "metadata": {
  "kernelspec": {
   "display_name": "Python",
   "language": "python",
   "name": "conda-env-python-py"
  },
  "language_info": {
   "codemirror_mode": {
    "name": "ipython",
    "version": 3
   },
   "file_extension": ".py",
   "mimetype": "text/x-python",
   "name": "python",
   "nbconvert_exporter": "python",
   "pygments_lexer": "ipython3",
   "version": "3.7.12"
  }
 },
 "nbformat": 4,
 "nbformat_minor": 5
}
